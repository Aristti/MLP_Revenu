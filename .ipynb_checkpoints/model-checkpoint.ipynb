{
 "cells": [
  {
   "cell_type": "code",
   "execution_count": 1,
   "id": "2af3e885-de35-4e70-856c-86eea36d7f45",
   "metadata": {},
   "outputs": [],
   "source": [
    "import numpy as np\n",
    "import pandas as pd\n",
    "import matplotlib.pyplot as plt\n",
    "import seaborn as sns\n"
   ]
  },
  {
   "cell_type": "code",
   "execution_count": 2,
   "id": "166d512a-0746-44f4-92c9-cc85ea8c96af",
   "metadata": {},
   "outputs": [],
   "source": [
    "df = pd.read_csv(\"C:/Users/DELL/Downloads/archive (8)/adult.csv\")\n"
   ]
  },
  {
   "cell_type": "code",
   "execution_count": 3,
   "id": "82141e76-165c-4d9e-a45b-6bb0ac86c243",
   "metadata": {},
   "outputs": [],
   "source": [
    "df = df.drop_duplicates()\n"
   ]
  },
  {
   "cell_type": "code",
   "execution_count": 4,
   "id": "12ccaf80-6662-4663-9562-4507fefd5986",
   "metadata": {},
   "outputs": [],
   "source": [
    "df.replace(\"?\", np.nan, inplace=True)\n",
    "df.dropna(inplace=True)\n"
   ]
  },
  {
   "cell_type": "code",
   "execution_count": 5,
   "id": "a8d6ba3d-bda0-4d07-a2c2-29083d04d6fe",
   "metadata": {},
   "outputs": [],
   "source": [
    "# Colonnes catégorielles à encoder\n",
    "cat_cols = ['education', 'native-country', 'gender', 'workclass', 'marital-status',\n",
    "            'occupation', 'relationship', 'race']\n",
    "\n",
    "for col in cat_cols:\n",
    "    df[col] = df[col].astype('category').cat.codes\n"
   ]
  },
  {
   "cell_type": "code",
   "execution_count": 6,
   "id": "d6bbddf8-ee96-403d-b900-76a0ae942bfb",
   "metadata": {},
   "outputs": [],
   "source": [
    "# Encodage cible\n",
    "df['income'] = df['income'].str.strip().map({'>50K': 1, '<=50K': 0})\n",
    "\n",
    "\n"
   ]
  },
  {
   "cell_type": "code",
   "execution_count": 7,
   "id": "df9a79ca-9cf8-44e3-88b3-7252a59d500f",
   "metadata": {},
   "outputs": [],
   "source": [
    "x =df.drop('income' , axis=1)\n",
    "y =df['income']\n"
   ]
  },
  {
   "cell_type": "code",
   "execution_count": 8,
   "id": "420c4453-782d-45f4-89e6-b5da0ffaacc4",
   "metadata": {},
   "outputs": [],
   "source": [
    "from imblearn.over_sampling import SMOTE\n",
    "\n",
    "smote = SMOTE(random_state=42)\n",
    "x, y = smote.fit_resample(x, y)\n",
    "x=x.values\n",
    "y=y.values"
   ]
  },
  {
   "cell_type": "code",
   "execution_count": 9,
   "id": "57b92a90-b59f-4e9b-aa0d-58d2a227ff33",
   "metadata": {},
   "outputs": [],
   "source": [
    "# Normalisation\n",
    "mu = np.mean(x, axis=0)\n",
    "sigma = np.std(x, axis=0)\n",
    "X_norm = (x - mu) / sigma"
   ]
  },
  {
   "cell_type": "code",
   "execution_count": 10,
   "id": "f55273e4-3add-4073-8644-1de46d29f6f0",
   "metadata": {},
   "outputs": [],
   "source": [
    "# Division train/test\n",
    "def train_test_split(X, y, test_size=0.2, seed=42):\n",
    "    np.random.seed(seed)\n",
    "    indices = np.random.permutation(len(X))\n",
    "    taille_test = int(len(X) * test_size)\n",
    "    test_idx = indices[:taille_test]\n",
    "    train_idx = indices[taille_test:]\n",
    "    return X[train_idx], X[test_idx], y[train_idx], y[test_idx]\n",
    "\n",
    "X_train, X_test, y_train, y_test = train_test_split(X_norm, y)\n",
    "\n"
   ]
  },
  {
   "cell_type": "code",
   "execution_count": 11,
   "id": "de72dc05-391a-455f-a71e-1f1cd4104695",
   "metadata": {},
   "outputs": [],
   "source": [
    "def initialisation(dimensions):\n",
    "    \n",
    "    parametres = {}\n",
    "    C = len(dimensions)\n",
    "\n",
    "    np.random.seed(1)\n",
    "\n",
    "    for c in range(1, C):\n",
    "        parametres['W' + str(c)] = np.random.randn(dimensions[c], dimensions[c - 1])\n",
    "        parametres['b' + str(c)] = np.random.randn(dimensions[c], 1)\n",
    "\n",
    "    return parametres\n",
    "\n",
    "# Fonctions d'activation\n",
    "def sigmoid(Z): return 1 / (1 + np.exp(-Z))\n",
    "def relu(Z): return np.maximum(0, Z)\n",
    "def relu_prime(Z): return Z > 0\n",
    "\n",
    "# Propagation avant\n",
    "def forward_propagation(X, parametres):\n",
    "    activations = {'A0': X}\n",
    "    C = len(parametres) // 2\n",
    "    for c in range(1, C):\n",
    "        Z = parametres['W' + str(c)] @ activations['A' + str(c-1)] + parametres['b' + str(c)]\n",
    "        A = relu(Z)\n",
    "        activations['Z' + str(c)], activations['A' + str(c)] = Z, A\n",
    "    ZC = parametres['W' + str(C)] @ activations['A' + str(C-1)] + parametres['b' + str(C)]\n",
    "    AC = sigmoid(ZC)\n",
    "    activations['Z' + str(C)], activations['A' + str(C)] = ZC, AC\n",
    "    return activations\n",
    "\n",
    "# Coût\n",
    "def log_loss(y, y_hat):\n",
    "    epsilon = 1e-15\n",
    "    y_hat = np.clip(y_hat, epsilon, 1 - epsilon)\n",
    "    return -np.mean(y * np.log(y_hat) + (1 - y) * np.log(1 - y_hat))\n",
    "\n",
    "# Rétropropagation\n",
    "def back_propagation(y, parametres, activations):\n",
    "    m = y.shape[1]\n",
    "    C = len(parametres) // 2\n",
    "    gradients = {}\n",
    "    dZ = activations['A' + str(C)] - y\n",
    "    for c in reversed(range(1, C+1)):\n",
    "        A_prev = activations['A' + str(c-1)]\n",
    "        gradients['dW' + str(c)] = (1/m) * dZ @ A_prev.T\n",
    "        gradients['db' + str(c)] = (1/m) * np.sum(dZ, axis=1, keepdims=True)\n",
    "        if c > 1:\n",
    "            dA_prev = parametres['W' + str(c)].T @ dZ\n",
    "            dZ = dA_prev * relu_prime(activations['Z' + str(c-1)])\n",
    "    return gradients\n",
    "\n",
    "# Mise à jour\n",
    "def update(parametres, gradients, learning_rate):\n",
    "    C = len(parametres) // 2\n",
    "    for c in range(1, C+1):\n",
    "        parametres['W' + str(c)] -= learning_rate * gradients['dW' + str(c)]\n",
    "        parametres['b' + str(c)] -= learning_rate * gradients['db' + str(c)]\n",
    "    return parametres\n",
    "\n",
    "# Prédiction\n",
    "def predict(X, parametres):\n",
    "    A = forward_propagation(X, parametres)['A' + str(len(parametres)//2)]\n",
    "    return A >= 0.5\n",
    "\n",
    "# Accuracy\n",
    "def accuracy(y_true, y_pred):\n",
    "    return np.mean(y_true == y_pred)\n",
    "\n",
    "# Modèle complet\n",
    "def deep_neural_network(X, y, hidden_layers=(16, 8), n_iter=1000, learning_rate=0.01):\n",
    "    np.random.seed(1)\n",
    "    layers = [X.shape[0], *hidden_layers, 1]\n",
    "    parametres = initialisation(layers)\n",
    "    history = []\n",
    "\n",
    "    for i in range(n_iter):\n",
    "        activations = forward_propagation(X, parametres)\n",
    "        y_hat = activations['A' + str(len(layers)-1)]\n",
    "        cost = log_loss(y, y_hat.flatten())\n",
    "        gradients = back_propagation(y, parametres, activations)\n",
    "        parametres = update(parametres, gradients, learning_rate)\n",
    "        if i % 100 == 0:\n",
    "            print(f\"Iteration {i}: log_loss = {cost:.4f}\")\n",
    "        history.append(cost)\n",
    "    \n",
    "    # Courbe du coût\n",
    "    plt.plot(history)\n",
    "    plt.title(\"Log Loss au fil des itérations\")\n",
    "    plt.xlabel(\"Itérations\")\n",
    "    plt.ylabel(\"Log Loss\")\n",
    "    plt.grid(True)\n",
    "    plt.show()\n",
    "\n",
    "    return parametres"
   ]
  },
  {
   "cell_type": "code",
   "execution_count": 12,
   "id": "da659f55-ec0d-4fc0-b130-fdc346a18229",
   "metadata": {},
   "outputs": [
    {
     "name": "stdout",
     "output_type": "stream",
     "text": [
      "Iteration 0: log_loss = 4.4429\n",
      "Iteration 100: log_loss = 1.2550\n",
      "Iteration 200: log_loss = 0.8479\n",
      "Iteration 300: log_loss = 0.7101\n",
      "Iteration 400: log_loss = 0.6489\n",
      "Iteration 500: log_loss = 0.6169\n",
      "Iteration 600: log_loss = 0.5970\n",
      "Iteration 700: log_loss = 0.5827\n",
      "Iteration 800: log_loss = 0.5717\n",
      "Iteration 900: log_loss = 0.5630\n"
     ]
    },
    {
     "data": {
      "image/png": "[encoded data removed]",
      "text/plain": [
       "<Figure size 640x480 with 1 Axes>"
      ]
     },
     "metadata": {},
     "output_type": "display_data"
    }
   ],
   "source": [
    "# Entraînement\n",
    "X_train = X_train.T\n",
    "X_test = X_test.T\n",
    "y_train = y_train.reshape(1, -1)\n",
    "y_test = y_test.reshape(1, -1)\n",
    "\n",
    "params = deep_neural_network(X_train, y_train, hidden_layers=(16, 8), n_iter=1000, learning_rate=0.01)\n"
   ]
  },
  {
   "cell_type": "code",
   "execution_count": 13,
   "id": "afe421b9-32d6-4f25-8c9f-dd6b058c262b",
   "metadata": {},
   "outputs": [
    {
     "name": "stdout",
     "output_type": "stream",
     "text": [
      "Accuracy sur le jeu de test : 72.36%\n"
     ]
    }
   ],
   "source": [
    "# Prédiction et accuracy\n",
    "y_pred_test = predict(X_test, params)\n",
    "acc = accuracy(y_test, y_pred_test.astype(int))\n",
    "print(f\"Accuracy sur le jeu de test : {acc * 100:.2f}%\")"
   ]
  },
  {
   "cell_type": "code",
   "execution_count": null,
   "id": "f7e82fb0-60b4-49da-b150-784769a2ec9e",
   "metadata": {},
   "outputs": [],
   "source": [
    "import pickle\n",
    "\n",
    "with open('params_model.pkl', 'wb') as f:\n",
    "    pickle.dump(params, f)\n",
    "\n",
    "normalization_stats = {'mu': mu, 'sigma': sigma}\n",
    "with open('normalization_stats.pkl', 'wb') as f:\n",
    "    pickle.dump(normalization_stats, f)\n",
    "\n"
   ]
  }
 ],
 "metadata": {
  "kernelspec": {
   "display_name": "Python 3 (ipykernel)",
   "language": "python",
   "name": "python3"
  },
  "language_info": {
   "codemirror_mode": {
    "name": "ipython",
    "version": 3
   },
   "file_extension": ".py",
   "mimetype": "text/x-python",
   "name": "python",
   "nbconvert_exporter": "python",
   "pygments_lexer": "ipython3",
   "version": "3.12.4"
  }
 },
 "nbformat": 4,
 "nbformat_minor": 5
}
